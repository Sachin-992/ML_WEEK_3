{
 "cells": [
  {
   "cell_type": "markdown",
   "id": "8d3d2064",
   "metadata": {},
   "source": [
    "                                                           CIFAR-10                                                                                                                                              "
   ]
  },
  {
   "cell_type": "markdown",
   "id": "0d879bbc",
   "metadata": {},
   "source": [
    "Image Classification Using Convolutional Neural Network (CNN)"
   ]
  },
  {
   "cell_type": "markdown",
   "id": "fc8b57b0",
   "metadata": {},
   "source": [
    "1)The CIFAR-10 Dataset consists of 60000 Images of 32x32 color images in 10 classes           \n",
    "2)50000 training images and 10000 test images                                                \n",
    "3)classes = airplane,automobile, bird, cat, deer, dog, frog, horse, ship, truck"
   ]
  },
  {
   "cell_type": "markdown",
   "id": "fdf127de",
   "metadata": {},
   "source": [
    "Import required Libraries"
   ]
  },
  {
   "cell_type": "code",
   "execution_count": 3,
   "id": "1652d353",
   "metadata": {},
   "outputs": [],
   "source": [
    "import tensorflow as tf \n",
    "from tensorflow.keras import datasets , layers , models  #tensorflow.keras gives you access to layers and models.\n",
    "import matplotlib.pyplot as plt \n",
    "import numpy as np \n",
    "from sklearn.metrics import confusion_matrix , classification_report"
   ]
  },
  {
   "cell_type": "markdown",
   "id": "1c2c8ea9",
   "metadata": {},
   "source": [
    "Load the CIFAR-10 Dataset"
   ]
  },
  {
   "cell_type": "code",
   "execution_count": 4,
   "id": "8c8778e8",
   "metadata": {},
   "outputs": [
    {
     "name": "stdout",
     "output_type": "stream",
     "text": [
      "Downloading data from https://www.cs.toronto.edu/~kriz/cifar-10-python.tar.gz\n",
      "\u001b[1m170498071/170498071\u001b[0m \u001b[32m━━━━━━━━━━━━━━━━━━━━\u001b[0m\u001b[37m\u001b[0m \u001b[1m37s\u001b[0m 0us/step\n"
     ]
    }
   ],
   "source": [
    "(X_train , y_train), (X_test , y_test) = datasets.cifar10.load_data()"
   ]
  },
  {
   "cell_type": "markdown",
   "id": "108febb1",
   "metadata": {},
   "source": [
    "check the number of the Training and testing images"
   ]
  },
  {
   "cell_type": "code",
   "execution_count": null,
   "id": "0a92b9d9",
   "metadata": {},
   "outputs": [
    {
     "data": {
      "text/plain": [
       "(50000, 32, 32, 3)"
      ]
     },
     "execution_count": 10,
     "metadata": {},
     "output_type": "execute_result"
    }
   ],
   "source": [
    "X_train.shape \n"
   ]
  },
  {
   "cell_type": "code",
   "execution_count": null,
   "id": "dbb85abc",
   "metadata": {},
   "outputs": [
    {
     "data": {
      "text/plain": [
       "(10000, 32, 32, 3)"
      ]
     },
     "execution_count": 6,
     "metadata": {},
     "output_type": "execute_result"
    }
   ],
   "source": [
    "X_test.shape"
   ]
  },
  {
   "cell_type": "markdown",
   "id": "dd4b2bb6",
   "metadata": {},
   "source": [
    "Normalize the Image pixel values 0 to 1 ,usually the pixel values range from 0 to 255"
   ]
  },
  {
   "cell_type": "code",
   "execution_count": null,
   "id": "faddb0a0",
   "metadata": {},
   "outputs": [],
   "source": [
    "X_train = X_train / 255\n",
    "X_test = X_test / 255"
   ]
  },
  {
   "cell_type": "markdown",
   "id": "617b9785",
   "metadata": {},
   "source": [
    "Convolutional Neural Network "
   ]
  },
  {
   "cell_type": "code",
   "execution_count": null,
   "id": "c12f6913",
   "metadata": {},
   "outputs": [],
   "source": [
    "cnn = models.Sequential()\n",
    "\n",
    "# 1st Convolution + MaxPooling\n",
    "\n",
    "cnn.add(layers.Conv2D(filters=32 , kernel_size=(3,3), activation='relu', input_shape=(32,32,3)))\n",
    "cnn.add(layers.MaxPooling2D((2,2))) #This adds a MaxPooling layer which reduces the image size (downsampling).\n",
    "\n",
    "# 2nd Convolution + MaxPooling\n",
    "cnn.add(layers.Conv2D(filters=64, kernel_size=(3,3), activation='relu',))\n",
    "cnn.add(layers.MaxPooling2D((2,2)))\n",
    "\n",
    "# Flatten before fully connected layers\n",
    "cnn.add(layers.Flatten())\n",
    "\n",
    "# Fully connected dense layer with dropout\n",
    "cnn.add(layers.Dense(64, activation='relu'))\n",
    "\n",
    "\n",
    "# Output layer\n",
    "cnn.add(layers.Dense(10, activation='softmax'))"
   ]
  },
  {
   "cell_type": "markdown",
   "id": "a1a50077",
   "metadata": {},
   "source": [
    " Compile and Train the CNN"
   ]
  },
  {
   "cell_type": "code",
   "execution_count": 24,
   "id": "47027934",
   "metadata": {},
   "outputs": [
    {
     "name": "stdout",
     "output_type": "stream",
     "text": [
      "Epoch 1/10\n",
      "\u001b[1m1563/1563\u001b[0m \u001b[32m━━━━━━━━━━━━━━━━━━━━\u001b[0m\u001b[37m\u001b[0m \u001b[1m12s\u001b[0m 7ms/step - accuracy: 0.2646 - loss: 3.2365 - val_accuracy: 0.4861 - val_loss: 1.4307\n",
      "Epoch 2/10\n",
      "\u001b[1m1563/1563\u001b[0m \u001b[32m━━━━━━━━━━━━━━━━━━━━\u001b[0m\u001b[37m\u001b[0m \u001b[1m10s\u001b[0m 7ms/step - accuracy: 0.5069 - loss: 1.3615 - val_accuracy: 0.5457 - val_loss: 1.2654\n",
      "Epoch 3/10\n",
      "\u001b[1m1563/1563\u001b[0m \u001b[32m━━━━━━━━━━━━━━━━━━━━\u001b[0m\u001b[37m\u001b[0m \u001b[1m10s\u001b[0m 7ms/step - accuracy: 0.5743 - loss: 1.1904 - val_accuracy: 0.5851 - val_loss: 1.1623\n",
      "Epoch 4/10\n",
      "\u001b[1m1563/1563\u001b[0m \u001b[32m━━━━━━━━━━━━━━━━━━━━\u001b[0m\u001b[37m\u001b[0m \u001b[1m10s\u001b[0m 7ms/step - accuracy: 0.6158 - loss: 1.0794 - val_accuracy: 0.6047 - val_loss: 1.1362\n",
      "Epoch 5/10\n",
      "\u001b[1m1563/1563\u001b[0m \u001b[32m━━━━━━━━━━━━━━━━━━━━\u001b[0m\u001b[37m\u001b[0m \u001b[1m10s\u001b[0m 6ms/step - accuracy: 0.6526 - loss: 0.9959 - val_accuracy: 0.6327 - val_loss: 1.0841\n",
      "Epoch 6/10\n",
      "\u001b[1m1563/1563\u001b[0m \u001b[32m━━━━━━━━━━━━━━━━━━━━\u001b[0m\u001b[37m\u001b[0m \u001b[1m10s\u001b[0m 7ms/step - accuracy: 0.6809 - loss: 0.9183 - val_accuracy: 0.6396 - val_loss: 1.0611\n",
      "Epoch 7/10\n",
      "\u001b[1m1563/1563\u001b[0m \u001b[32m━━━━━━━━━━━━━━━━━━━━\u001b[0m\u001b[37m\u001b[0m \u001b[1m10s\u001b[0m 7ms/step - accuracy: 0.7036 - loss: 0.8593 - val_accuracy: 0.6503 - val_loss: 1.0509\n",
      "Epoch 8/10\n",
      "\u001b[1m1563/1563\u001b[0m \u001b[32m━━━━━━━━━━━━━━━━━━━━\u001b[0m\u001b[37m\u001b[0m \u001b[1m10s\u001b[0m 7ms/step - accuracy: 0.7197 - loss: 0.8055 - val_accuracy: 0.6621 - val_loss: 1.0237\n",
      "Epoch 9/10\n",
      "\u001b[1m1563/1563\u001b[0m \u001b[32m━━━━━━━━━━━━━━━━━━━━\u001b[0m\u001b[37m\u001b[0m \u001b[1m10s\u001b[0m 7ms/step - accuracy: 0.7358 - loss: 0.7686 - val_accuracy: 0.6553 - val_loss: 1.0556\n",
      "Epoch 10/10\n",
      "\u001b[1m1563/1563\u001b[0m \u001b[32m━━━━━━━━━━━━━━━━━━━━\u001b[0m\u001b[37m\u001b[0m \u001b[1m10s\u001b[0m 7ms/step - accuracy: 0.7423 - loss: 0.7454 - val_accuracy: 0.6519 - val_loss: 1.0917\n"
     ]
    }
   ],
   "source": [
    "cnn.compile(optimizer='adam', loss='sparse_categorical_crossentropy', metrics=['accuracy'])\n",
    "\n",
    "# Train the model\n",
    "\n",
    "history = cnn.fit(X_train, y_train , epochs=10, validation_data=(X_test, y_test))"
   ]
  },
  {
   "cell_type": "markdown",
   "id": "7e03c5b6",
   "metadata": {},
   "source": [
    " Evaluate and Analyze Results"
   ]
  },
  {
   "cell_type": "code",
   "execution_count": 25,
   "id": "5dad5ca2",
   "metadata": {},
   "outputs": [
    {
     "name": "stdout",
     "output_type": "stream",
     "text": [
      "\u001b[1m313/313\u001b[0m \u001b[32m━━━━━━━━━━━━━━━━━━━━\u001b[0m\u001b[37m\u001b[0m \u001b[1m1s\u001b[0m 3ms/step - accuracy: 0.6528 - loss: 1.0851\n",
      "Test Accuracy: 0.6518999934196472\n"
     ]
    }
   ],
   "source": [
    "# Evaluate on test data\n",
    "test_loss, test_accuracy = cnn.evaluate(X_test, y_test)\n",
    "print(\"Test Accuracy:\", test_accuracy)"
   ]
  },
  {
   "cell_type": "markdown",
   "id": "2e6bcc92",
   "metadata": {},
   "source": [
    "Visualize Training History"
   ]
  },
  {
   "cell_type": "code",
   "execution_count": 26,
   "id": "7c388f5d",
   "metadata": {},
   "outputs": [
    {
     "data": {
      "image/png": "[encoded data removed]",
      "text/plain": [
       "<Figure size 640x480 with 1 Axes>"
      ]
     },
     "metadata": {},
     "output_type": "display_data"
    }
   ],
   "source": [
    "plt.plot(history.history['accuracy'], label='train acc')\n",
    "plt.plot(history.history['val_accuracy'], label='val acc')\n",
    "plt.xlabel(\"Epoch\")\n",
    "plt.ylabel(\"Accuracy\")\n",
    "plt.legend()\n",
    "plt.title(\"Training vs Validation Accuracy\")\n",
    "plt.show()\n"
   ]
  }
 ],
 "metadata": {
  "kernelspec": {
   "display_name": "Python 3",
   "language": "python",
   "name": "python3"
  },
  "language_info": {
   "codemirror_mode": {
    "name": "ipython",
    "version": 3
   },
   "file_extension": ".py",
   "mimetype": "text/x-python",
   "name": "python",
   "nbconvert_exporter": "python",
   "pygments_lexer": "ipython3",
   "version": "3.10.11"
  }
 },
 "nbformat": 4,
 "nbformat_minor": 5
}
